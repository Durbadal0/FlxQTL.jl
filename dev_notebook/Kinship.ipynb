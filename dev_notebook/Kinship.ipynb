{
 "cells": [
  {
   "cell_type": "markdown",
   "id": "88e56544-ee11-4dd1-9d1a-456ce3f6b35e",
   "metadata": {},
   "source": [
    "# Kinship Matrix"
   ]
  }
 ],
 "metadata": {
  "kernelspec": {
   "display_name": "Julia_6_Threads 1.10.3",
   "language": "julia",
   "name": "julia_6_threads-1.10"
  },
  "language_info": {
   "file_extension": ".jl",
   "mimetype": "application/julia",
   "name": "julia",
   "version": "1.10.3"
  }
 },
 "nbformat": 4,
 "nbformat_minor": 5
}
